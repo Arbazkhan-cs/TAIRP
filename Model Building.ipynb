{
 "cells": [
  {
   "cell_type": "markdown",
   "id": "fecf11ae",
   "metadata": {},
   "source": [
    "<ul><li style=\"font-size: 30px; font-weight: bold\">Importing Needed Librarys </li></ul>"
   ]
  },
  {
   "cell_type": "code",
   "execution_count": 1,
   "id": "6b230662",
   "metadata": {},
   "outputs": [],
   "source": [
    "import pandas as pd\n",
    "import numpy as np\n",
    "import matplotlib.pyplot as plt\n",
    "import tensorflow as tf"
   ]
  },
  {
   "cell_type": "markdown",
   "id": "4f0c30e5",
   "metadata": {},
   "source": [
    "<ul><li style=\"font-size: 25px; font-weight: bold\">Data Preprocessing </li></ul>"
   ]
  },
  {
   "cell_type": "code",
   "execution_count": 62,
   "id": "13e8198a",
   "metadata": {},
   "outputs": [],
   "source": [
    "import os\n",
    "import shutil"
   ]
  },
  {
   "cell_type": "code",
   "execution_count": 133,
   "id": "db7eb30b",
   "metadata": {},
   "outputs": [],
   "source": [
    "os.chdir(\"/Users/Arbaz Khan/Desktop/TechAIntern/train\")"
   ]
  },
  {
   "cell_type": "code",
   "execution_count": 134,
   "id": "70280289",
   "metadata": {},
   "outputs": [],
   "source": [
    "prev_file = None\n",
    "for file in os.listdir():\n",
    "    \n",
    "    file_name = file.split(\" \")\n",
    "    if not os.path.exists(file_name[0]):\n",
    "        os.mkdir(file_name[0])\n",
    "        prev_file = file_name[0]\n",
    "    \n",
    "    if prev_file == file_name[0]:\n",
    "        shutil.move(file, prev_file)\n",
    "    else:\n",
    "        prev_file = file_name[0]"
   ]
  },
  {
   "cell_type": "code",
   "execution_count": 140,
   "id": "48b7236f",
   "metadata": {},
   "outputs": [],
   "source": [
    "os.chdir(\"/Users/Arbaz Khan/Desktop/TechAIntern/test\")"
   ]
  },
  {
   "cell_type": "code",
   "execution_count": 141,
   "id": "d2c5fed8",
   "metadata": {},
   "outputs": [],
   "source": [
    "prev_file = None\n",
    "for file in os.listdir():\n",
    "    \n",
    "    file_name = file.split(\" \")\n",
    "    if not os.path.exists(file_name[0]):\n",
    "        os.mkdir(file_name[0])\n",
    "        prev_file = file_name[0]\n",
    "    \n",
    "    if prev_file == file_name[0]:\n",
    "        shutil.move(file, prev_file)\n",
    "    else:\n",
    "        prev_file = file_name[0]"
   ]
  },
  {
   "cell_type": "code",
   "execution_count": 142,
   "id": "d0d0ddc8",
   "metadata": {},
   "outputs": [],
   "source": [
    "os.chdir(\"/Users/Arbaz Khan/Desktop/TechAIntern\")"
   ]
  },
  {
   "cell_type": "markdown",
   "id": "4c512042",
   "metadata": {},
   "source": [
    "<ul><li style=\"font-size: 25px; font-weight: bold\">Adding The Training Set</li></ul>"
   ]
  },
  {
   "cell_type": "code",
   "execution_count": 143,
   "id": "15e2cabb",
   "metadata": {},
   "outputs": [
    {
     "name": "stdout",
     "output_type": "stream",
     "text": [
      "Found 67692 files belonging to 67 classes.\n"
     ]
    }
   ],
   "source": [
    "training_set = tf.keras.utils.image_dataset_from_directory(\n",
    "    \"train\",\n",
    "    labels=\"inferred\",\n",
    "    label_mode=\"categorical\",\n",
    "    class_names=None,\n",
    "    color_mode=\"rgb\",\n",
    "    batch_size=32,\n",
    "    image_size=(64, 64),\n",
    "    shuffle=True,\n",
    "    seed=None,\n",
    "    validation_split=None,\n",
    "    subset=None,\n",
    "    interpolation=\"bilinear\",\n",
    "    follow_links=False,\n",
    "    crop_to_aspect_ratio=False,\n",
    ")"
   ]
  },
  {
   "cell_type": "markdown",
   "id": "bcb106b0",
   "metadata": {},
   "source": [
    "<ul><li style=\"font-size: 25px; font-weight: bold\">Adding The Testing Set And Validation Set</li></ul>"
   ]
  },
  {
   "cell_type": "code",
   "execution_count": 144,
   "id": "829c4368",
   "metadata": {},
   "outputs": [
    {
     "name": "stdout",
     "output_type": "stream",
     "text": [
      "Found 22688 files belonging to 67 classes.\n",
      "Using 11344 files for training.\n",
      "Using 11344 files for validation.\n"
     ]
    }
   ],
   "source": [
    "testing_set, validation_set = tf.keras.utils.image_dataset_from_directory(\n",
    "    \"test\",\n",
    "    labels=\"inferred\",\n",
    "    label_mode=\"categorical\",\n",
    "    class_names=None,\n",
    "    color_mode=\"rgb\",\n",
    "    batch_size=32,\n",
    "    image_size=(64, 64),\n",
    "    shuffle=True,\n",
    "    seed=1,\n",
    "    validation_split=0.5,\n",
    "    subset=\"both\",\n",
    "    interpolation=\"bilinear\",\n",
    "    follow_links=False,\n",
    "    crop_to_aspect_ratio=False,\n",
    ")"
   ]
  },
  {
   "cell_type": "code",
   "execution_count": 145,
   "id": "583748a4",
   "metadata": {},
   "outputs": [
    {
     "data": {
      "text/plain": [
       "(<_BatchDataset element_spec=(TensorSpec(shape=(None, 64, 64, 3), dtype=tf.float32, name=None), TensorSpec(shape=(None, 67), dtype=tf.float32, name=None))>,\n",
       " <_BatchDataset element_spec=(TensorSpec(shape=(None, 64, 64, 3), dtype=tf.float32, name=None), TensorSpec(shape=(None, 67), dtype=tf.float32, name=None))>)"
      ]
     },
     "execution_count": 145,
     "metadata": {},
     "output_type": "execute_result"
    }
   ],
   "source": [
    "testing_set, validation_set"
   ]
  },
  {
   "cell_type": "markdown",
   "id": "fff8fd6c",
   "metadata": {},
   "source": [
    "<ul><li style=\"font-size: 25px; font-weight: bold\">Building The Model</li></ul>"
   ]
  },
  {
   "cell_type": "code",
   "execution_count": 179,
   "id": "cf29b138",
   "metadata": {},
   "outputs": [],
   "source": [
    "cnn = tf.keras.models.Sequential()\n",
    "# [\n",
    "#     tf.keras.layers.Conv2D(filters=64, kernel_size=3, activation=\"relu\", input_shape=(64, 64, 3)),\n",
    "#     tf.keras.layers.MaxPool2D(pool_size=2, strides=2),\n",
    "#     tf.keras.layers.Conv2D(filters=64, kernel_size=3, activation=\"relu\"),\n",
    "#     tf.keras.layers.MaxPool2D(pool_size=2, strides=2),\n",
    "#     tf.keras.layers.Dropout(0.5),\n",
    "#     tf.keras.layers.Flatten(),\n",
    "#     tf.keras.layers.Dense(units=128, activation=\"relu\"),\n",
    "#     tf.keras.layers.Dense(units=67, activation=\"softmax\")\n",
    "# ]"
   ]
  },
  {
   "cell_type": "markdown",
   "id": "0ea062da",
   "metadata": {},
   "source": [
    "<h3> Process of CNN: </h3>\n",
    "<ol>\n",
    "    <li>Filter: It scan the important feature of the image an then do some computation, after that it stres that features into another matrics</li>\n",
    "    <li>Pooling: There is a two type of pooling:-\n",
    "        1). Max Pooling: It scan the entire matrix by taking 2X2 matrix and then take the MAX value from it and then stroe that result into another matrix.\n",
    "        2). Average Pooling: It also scan the entire matrix by taking 2X2 matrix, but it takes the averge of thet 2X2 matrix an then stores the result into another matrix</li>\n",
    "    <li>Fully Connected: It convert the 2X2 matrix into a flattern matrix ehre each input is connected to all neurons for further Neural Network Processing</li>\n",
    "</ol>"
   ]
  },
  {
   "cell_type": "markdown",
   "id": "fbc3b75d",
   "metadata": {},
   "source": [
    "<h3> Building Convolution Layer: </h3>"
   ]
  },
  {
   "cell_type": "code",
   "execution_count": 180,
   "id": "60337980",
   "metadata": {},
   "outputs": [],
   "source": [
    "cnn.add(tf.keras.layers.Conv2D(filters=64, kernel_size=3, activation=\"relu\", input_shape=(64, 64, 3)))\n",
    "cnn.add(tf.keras.layers.MaxPool2D(pool_size=2, strides=2)) # It means scan max 2X2 matrix"
   ]
  },
  {
   "cell_type": "code",
   "execution_count": 181,
   "id": "78fd45ec",
   "metadata": {},
   "outputs": [],
   "source": [
    "# Repeating the above step again for getting the important feature by reducing the size\n",
    "cnn.add(tf.keras.layers.Conv2D(filters=64, kernel_size=3, activation=\"relu\"))\n",
    "cnn.add(tf.keras.layers.MaxPool2D(pool_size=2, strides=2)) "
   ]
  },
  {
   "cell_type": "code",
   "execution_count": 182,
   "id": "64d1cb7f",
   "metadata": {},
   "outputs": [],
   "source": [
    "# It helps in avoiding the overfitting situation\n",
    "cnn.add(tf.keras.layers.Dropout(0.5))"
   ]
  },
  {
   "cell_type": "code",
   "execution_count": 183,
   "id": "1f04a040",
   "metadata": {},
   "outputs": [],
   "source": [
    "# To flatten the matrix\n",
    "cnn.add(tf.keras.layers.Flatten())"
   ]
  },
  {
   "cell_type": "code",
   "execution_count": 184,
   "id": "cc78643d",
   "metadata": {},
   "outputs": [],
   "source": [
    "# Adding Dense Layers\n",
    "cnn.add(tf.keras.layers.Dense(units=128, activation=\"relu\"))\n",
    "cnn.add(tf.keras.layers.Dense(units=67, activation=\"softmax\"))"
   ]
  },
  {
   "cell_type": "markdown",
   "id": "3610f1a9",
   "metadata": {},
   "source": [
    "<h3> Compiling And Training</h3>"
   ]
  },
  {
   "cell_type": "code",
   "execution_count": 185,
   "id": "837c25be",
   "metadata": {},
   "outputs": [],
   "source": [
    "cnn.compile(\n",
    "    optimizer=\"rmsprop\",\n",
    "    loss=tf.keras.losses.CategoricalCrossentropy(),\n",
    "    metrics=[\"accuracy\"]\n",
    ")"
   ]
  },
  {
   "cell_type": "code",
   "execution_count": 186,
   "id": "8de8c316",
   "metadata": {},
   "outputs": [
    {
     "name": "stdout",
     "output_type": "stream",
     "text": [
      "Epoch 1/5\n",
      "2116/2116 [==============================] - 1272s 600ms/step - loss: 1.4435 - accuracy: 0.7764 - val_loss: 1.7762 - val_accuracy: 0.8136\n",
      "Epoch 2/5\n",
      "2116/2116 [==============================] - 1155s 545ms/step - loss: 0.3997 - accuracy: 0.9519 - val_loss: 1.4207 - val_accuracy: 0.9127\n",
      "Epoch 3/5\n",
      "2116/2116 [==============================] - 1157s 547ms/step - loss: 0.4804 - accuracy: 0.9693 - val_loss: 2.3027 - val_accuracy: 0.9338\n",
      "Epoch 4/5\n",
      "2116/2116 [==============================] - 1186s 560ms/step - loss: 0.6110 - accuracy: 0.9760 - val_loss: 3.7248 - val_accuracy: 0.9343\n",
      "Epoch 5/5\n",
      "2116/2116 [==============================] - 1198s 566ms/step - loss: 0.7083 - accuracy: 0.9801 - val_loss: 6.5945 - val_accuracy: 0.9268\n"
     ]
    }
   ],
   "source": [
    "training_history = cnn.fit(x=training_set, validation_data=validation_set, epochs=5)"
   ]
  },
  {
   "cell_type": "markdown",
   "id": "fed2e37c",
   "metadata": {},
   "source": [
    "<ul><li style=\"font-size: 25px; font-weight: bold\">Saving The Model And Training History</li></ul>"
   ]
  },
  {
   "cell_type": "code",
   "execution_count": 188,
   "id": "a7a8b86b",
   "metadata": {},
   "outputs": [
    {
     "name": "stderr",
     "output_type": "stream",
     "text": [
      "C:\\Users\\Arbaz Khan\\AppData\\Roaming\\Python\\Python311\\site-packages\\keras\\src\\engine\\training.py:3000: UserWarning: You are saving your model as an HDF5 file via `model.save()`. This file format is considered legacy. We recommend using instead the native Keras format, e.g. `model.save('my_model.keras')`.\n",
      "  saving_api.save_model(\n"
     ]
    }
   ],
   "source": [
    "cnn.save(\"trained_model.h5\")"
   ]
  },
  {
   "cell_type": "code",
   "execution_count": 190,
   "id": "166b6203",
   "metadata": {},
   "outputs": [
    {
     "data": {
      "text/plain": [
       "{'loss': [1.4435480833053589,\n",
       "  0.39967426657676697,\n",
       "  0.4803834855556488,\n",
       "  0.6110328435897827,\n",
       "  0.7082991600036621],\n",
       " 'accuracy': [0.7764137387275696,\n",
       "  0.95194411277771,\n",
       "  0.9692873358726501,\n",
       "  0.9760237336158752,\n",
       "  0.9800862669944763],\n",
       " 'val_loss': [1.7761578559875488,\n",
       "  1.420690655708313,\n",
       "  2.3026552200317383,\n",
       "  3.724759101867676,\n",
       "  6.594460964202881],\n",
       " 'val_accuracy': [0.8136459589004517,\n",
       "  0.9127292037010193,\n",
       "  0.9337975978851318,\n",
       "  0.9343265295028687,\n",
       "  0.9268335700035095]}"
      ]
     },
     "execution_count": 190,
     "metadata": {},
     "output_type": "execute_result"
    }
   ],
   "source": [
    "training_history.history"
   ]
  },
  {
   "cell_type": "code",
   "execution_count": 195,
   "id": "0ce0a19e",
   "metadata": {},
   "outputs": [
    {
     "data": {
      "text/plain": [
       "dict_keys(['loss', 'accuracy', 'val_loss', 'val_accuracy'])"
      ]
     },
     "execution_count": 195,
     "metadata": {},
     "output_type": "execute_result"
    }
   ],
   "source": [
    "training_history.history.keys()"
   ]
  },
  {
   "cell_type": "code",
   "execution_count": 191,
   "id": "62c6175b",
   "metadata": {},
   "outputs": [],
   "source": [
    "# Recording History In Json Formate\n",
    "import json\n",
    "with open(\"training_hist.json\", \"w\") as f:\n",
    "    json.dump(training_history.history, f)"
   ]
  },
  {
   "cell_type": "markdown",
   "id": "46aa26d1",
   "metadata": {},
   "source": [
    "<h3> Calculating Accuracy Of Model Achieved on Validation set </h3>"
   ]
  },
  {
   "cell_type": "code",
   "execution_count": 203,
   "id": "ba49c8ab",
   "metadata": {},
   "outputs": [
    {
     "name": "stdout",
     "output_type": "stream",
     "text": [
      "Validation Set Accuracy = 92.68335700035095 %\n"
     ]
    }
   ],
   "source": [
    "print(\"Validation Set Accuracy = {} %\".format(training_history.history[\"val_accuracy\"][-1]*100))"
   ]
  },
  {
   "cell_type": "markdown",
   "id": "32df585b",
   "metadata": {},
   "source": [
    "<ul><li style=\"font-size: 25px; font-weight: bold\">Accuracy Visualisation</li></ul>"
   ]
  },
  {
   "cell_type": "markdown",
   "id": "f82bca14",
   "metadata": {},
   "source": [
    "<h3>Training Accuracy Visualization</h3>"
   ]
  },
  {
   "cell_type": "code",
   "execution_count": 206,
   "id": "d0d73580",
   "metadata": {},
   "outputs": [],
   "source": [
    "epochs = [i for i in range(1, 6)]"
   ]
  },
  {
   "cell_type": "code",
   "execution_count": 225,
   "id": "867b1517",
   "metadata": {},
   "outputs": [
    {
     "data": {
      "text/plain": [
       "<matplotlib.legend.Legend at 0x21f3adbee90>"
      ]
     },
     "execution_count": 225,
     "metadata": {},
     "output_type": "execute_result"
    },
    {
     "data": {
      "image/png": "[encoded data removed]",
      "text/plain": [
       "<Figure size 640x480 with 1 Axes>"
      ]
     },
     "metadata": {},
     "output_type": "display_data"
    }
   ],
   "source": [
    "plt.plot(epochs, training_history.history[\"accuracy\"], color=\"red\", label=\"Training Accuracy\")\n",
    "plt.xlabel(\"No. Of Epochs\", size=13)\n",
    "plt.ylabel(\"Accuracy Per Epochs\", size=13)\n",
    "plt.title(\"Training Accuracy Visualization\")\n",
    "plt.grid()\n",
    "plt.legend()"
   ]
  },
  {
   "cell_type": "markdown",
   "id": "3bd7485e",
   "metadata": {},
   "source": [
    "<h3>Validation Accuracy Visualization</h3>"
   ]
  },
  {
   "cell_type": "code",
   "execution_count": 227,
   "id": "88ac8392",
   "metadata": {},
   "outputs": [
    {
     "data": {
      "text/plain": [
       "<matplotlib.legend.Legend at 0x21f3d877a90>"
      ]
     },
     "execution_count": 227,
     "metadata": {},
     "output_type": "execute_result"
    },
    {
     "data": {
      "image/png": "[encoded data removed]",
      "text/plain": [
       "<Figure size 640x480 with 1 Axes>"
      ]
     },
     "metadata": {},
     "output_type": "display_data"
    }
   ],
   "source": [
    "plt.plot(epochs, training_history.history[\"val_accuracy\"], color=\"blue\", label=\"Validation Accuracy\")\n",
    "plt.xlabel(\"No. Of Epochs\", size=13)\n",
    "plt.ylabel(\"Accuracy Per Epochs\", size=13)\n",
    "plt.title(\"Validation Accuracy Visualization\")\n",
    "plt.grid()\n",
    "plt.legend()"
   ]
  },
  {
   "cell_type": "code",
   "execution_count": null,
   "id": "3f81339c",
   "metadata": {},
   "outputs": [],
   "source": [
    "\n"
   ]
  }
 ],
 "metadata": {
  "kernelspec": {
   "display_name": "Python 3 (ipykernel)",
   "language": "python",
   "name": "python3"
  },
  "language_info": {
   "codemirror_mode": {
    "name": "ipython",
    "version": 3
   },
   "file_extension": ".py",
   "mimetype": "text/x-python",
   "name": "python",
   "nbconvert_exporter": "python",
   "pygments_lexer": "ipython3",
   "version": "3.11.3"
  }
 },
 "nbformat": 4,
 "nbformat_minor": 5
}
