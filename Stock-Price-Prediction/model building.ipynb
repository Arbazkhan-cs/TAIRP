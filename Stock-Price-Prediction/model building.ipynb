{
 "cells": [
  {
   "cell_type": "markdown",
   "id": "fef18704",
   "metadata": {},
   "source": [
    "## Importing neccesary modules"
   ]
  },
  {
   "cell_type": "code",
   "execution_count": 2,
   "id": "04753e69",
   "metadata": {},
   "outputs": [],
   "source": [
    "import numpy as np\n",
    "import pandas as pd\n",
    "import matplotlib.pyplot as plt\n",
    "import seaborn as sns\n",
    "\n",
    "# for model\n",
    "from sklearn.model_selection import train_test_split\n",
    "from sklearn.ensemble import RandomForestRegressor, RandomForestClassifier\n",
    "from sklearn.metrics import r2_score"
   ]
  },
  {
   "cell_type": "code",
   "execution_count": 3,
   "id": "5e91148a",
   "metadata": {},
   "outputs": [
    {
     "data": {
      "text/html": [
       "<div>\n",
       "<style scoped>\n",
       "    .dataframe tbody tr th:only-of-type {\n",
       "        vertical-align: middle;\n",
       "    }\n",
       "\n",
       "    .dataframe tbody tr th {\n",
       "        vertical-align: top;\n",
       "    }\n",
       "\n",
       "    .dataframe thead th {\n",
       "        text-align: right;\n",
       "    }\n",
       "</style>\n",
       "<table border=\"1\" class=\"dataframe\">\n",
       "  <thead>\n",
       "    <tr style=\"text-align: right;\">\n",
       "      <th></th>\n",
       "      <th>Date</th>\n",
       "      <th>Open</th>\n",
       "      <th>High</th>\n",
       "      <th>Low</th>\n",
       "      <th>Close</th>\n",
       "      <th>Adj Close</th>\n",
       "      <th>Volume</th>\n",
       "    </tr>\n",
       "  </thead>\n",
       "  <tbody>\n",
       "    <tr>\n",
       "      <th>0</th>\n",
       "      <td>2004-08-27</td>\n",
       "      <td>122.800003</td>\n",
       "      <td>122.800003</td>\n",
       "      <td>119.820000</td>\n",
       "      <td>120.332497</td>\n",
       "      <td>88.088272</td>\n",
       "      <td>30646000.0</td>\n",
       "    </tr>\n",
       "    <tr>\n",
       "      <th>1</th>\n",
       "      <td>2004-08-30</td>\n",
       "      <td>121.237503</td>\n",
       "      <td>123.750000</td>\n",
       "      <td>120.625000</td>\n",
       "      <td>123.345001</td>\n",
       "      <td>90.293549</td>\n",
       "      <td>24465208.0</td>\n",
       "    </tr>\n",
       "    <tr>\n",
       "      <th>2</th>\n",
       "      <td>2004-08-31</td>\n",
       "      <td>123.312500</td>\n",
       "      <td>123.750000</td>\n",
       "      <td>122.000000</td>\n",
       "      <td>123.512497</td>\n",
       "      <td>90.416122</td>\n",
       "      <td>21194656.0</td>\n",
       "    </tr>\n",
       "    <tr>\n",
       "      <th>3</th>\n",
       "      <td>2004-09-01</td>\n",
       "      <td>123.750000</td>\n",
       "      <td>124.375000</td>\n",
       "      <td>122.949997</td>\n",
       "      <td>123.487503</td>\n",
       "      <td>90.397820</td>\n",
       "      <td>19935544.0</td>\n",
       "    </tr>\n",
       "    <tr>\n",
       "      <th>4</th>\n",
       "      <td>2004-09-02</td>\n",
       "      <td>123.737503</td>\n",
       "      <td>125.574997</td>\n",
       "      <td>123.250000</td>\n",
       "      <td>124.207497</td>\n",
       "      <td>90.924896</td>\n",
       "      <td>21356352.0</td>\n",
       "    </tr>\n",
       "  </tbody>\n",
       "</table>\n",
       "</div>"
      ],
      "text/plain": [
       "         Date        Open        High         Low       Close  Adj Close  \\\n",
       "0  2004-08-27  122.800003  122.800003  119.820000  120.332497  88.088272   \n",
       "1  2004-08-30  121.237503  123.750000  120.625000  123.345001  90.293549   \n",
       "2  2004-08-31  123.312500  123.750000  122.000000  123.512497  90.416122   \n",
       "3  2004-09-01  123.750000  124.375000  122.949997  123.487503  90.397820   \n",
       "4  2004-09-02  123.737503  125.574997  123.250000  124.207497  90.924896   \n",
       "\n",
       "       Volume  \n",
       "0  30646000.0  \n",
       "1  24465208.0  \n",
       "2  21194656.0  \n",
       "3  19935544.0  \n",
       "4  21356352.0  "
      ]
     },
     "execution_count": 3,
     "metadata": {},
     "output_type": "execute_result"
    }
   ],
   "source": [
    "df = pd.read_csv(\"processed_stock.csv\")\n",
    "df.head()"
   ]
  },
  {
   "cell_type": "code",
   "execution_count": 4,
   "id": "50b76346",
   "metadata": {},
   "outputs": [],
   "source": [
    "X = df.drop(columns=[\"Date\", \"Adj Close\", \"Close\"])\n",
    "Y = df[\"Close\"]"
   ]
  },
  {
   "cell_type": "code",
   "execution_count": 5,
   "id": "821ca750",
   "metadata": {},
   "outputs": [
    {
     "data": {
      "text/html": [
       "<div>\n",
       "<style scoped>\n",
       "    .dataframe tbody tr th:only-of-type {\n",
       "        vertical-align: middle;\n",
       "    }\n",
       "\n",
       "    .dataframe tbody tr th {\n",
       "        vertical-align: top;\n",
       "    }\n",
       "\n",
       "    .dataframe thead th {\n",
       "        text-align: right;\n",
       "    }\n",
       "</style>\n",
       "<table border=\"1\" class=\"dataframe\">\n",
       "  <thead>\n",
       "    <tr style=\"text-align: right;\">\n",
       "      <th></th>\n",
       "      <th>Open</th>\n",
       "      <th>High</th>\n",
       "      <th>Low</th>\n",
       "      <th>Volume</th>\n",
       "    </tr>\n",
       "  </thead>\n",
       "  <tbody>\n",
       "    <tr>\n",
       "      <th>0</th>\n",
       "      <td>122.800003</td>\n",
       "      <td>122.800003</td>\n",
       "      <td>119.820</td>\n",
       "      <td>30646000.0</td>\n",
       "    </tr>\n",
       "    <tr>\n",
       "      <th>1</th>\n",
       "      <td>121.237503</td>\n",
       "      <td>123.750000</td>\n",
       "      <td>120.625</td>\n",
       "      <td>24465208.0</td>\n",
       "    </tr>\n",
       "  </tbody>\n",
       "</table>\n",
       "</div>"
      ],
      "text/plain": [
       "         Open        High      Low      Volume\n",
       "0  122.800003  122.800003  119.820  30646000.0\n",
       "1  121.237503  123.750000  120.625  24465208.0"
      ]
     },
     "execution_count": 5,
     "metadata": {},
     "output_type": "execute_result"
    }
   ],
   "source": [
    "X.head(2)"
   ]
  },
  {
   "cell_type": "code",
   "execution_count": 6,
   "id": "0aea60ce",
   "metadata": {},
   "outputs": [
    {
     "data": {
      "text/plain": [
       "0    120.332497\n",
       "1    123.345001\n",
       "Name: Close, dtype: float64"
      ]
     },
     "execution_count": 6,
     "metadata": {},
     "output_type": "execute_result"
    }
   ],
   "source": [
    "Y.head(2)"
   ]
  },
  {
   "cell_type": "code",
   "execution_count": 7,
   "id": "dfdda1f4",
   "metadata": {},
   "outputs": [],
   "source": [
    "# Spliting The Dataset\n",
    "X_train = X[1000:]\n",
    "Y_train = Y[1000:]\n",
    "\n",
    "X_test = X[:1000]\n",
    "Y_test = Y[:1000]"
   ]
  },
  {
   "cell_type": "code",
   "execution_count": 8,
   "id": "da714cd9",
   "metadata": {},
   "outputs": [
    {
     "data": {
      "text/plain": [
       "((1000, 4), (1000,))"
      ]
     },
     "execution_count": 8,
     "metadata": {},
     "output_type": "execute_result"
    }
   ],
   "source": [
    "X_test.shape, Y_test.shape"
   ]
  },
  {
   "cell_type": "code",
   "execution_count": 9,
   "id": "bbe072d1",
   "metadata": {},
   "outputs": [
    {
     "data": {
      "text/plain": [
       "((3494, 4), (3494,))"
      ]
     },
     "execution_count": 9,
     "metadata": {},
     "output_type": "execute_result"
    }
   ],
   "source": [
    "X_train.shape, Y_train.shape"
   ]
  },
  {
   "cell_type": "code",
   "execution_count": 10,
   "id": "a2a938d9",
   "metadata": {},
   "outputs": [
    {
     "data": {
      "text/html": [
       "<style>#sk-container-id-1 {color: black;background-color: white;}#sk-container-id-1 pre{padding: 0;}#sk-container-id-1 div.sk-toggleable {background-color: white;}#sk-container-id-1 label.sk-toggleable__label {cursor: pointer;display: block;width: 100%;margin-bottom: 0;padding: 0.3em;box-sizing: border-box;text-align: center;}#sk-container-id-1 label.sk-toggleable__label-arrow:before {content: \"▸\";float: left;margin-right: 0.25em;color: #696969;}#sk-container-id-1 label.sk-toggleable__label-arrow:hover:before {color: black;}#sk-container-id-1 div.sk-estimator:hover label.sk-toggleable__label-arrow:before {color: black;}#sk-container-id-1 div.sk-toggleable__content {max-height: 0;max-width: 0;overflow: hidden;text-align: left;background-color: #f0f8ff;}#sk-container-id-1 div.sk-toggleable__content pre {margin: 0.2em;color: black;border-radius: 0.25em;background-color: #f0f8ff;}#sk-container-id-1 input.sk-toggleable__control:checked~div.sk-toggleable__content {max-height: 200px;max-width: 100%;overflow: auto;}#sk-container-id-1 input.sk-toggleable__control:checked~label.sk-toggleable__label-arrow:before {content: \"▾\";}#sk-container-id-1 div.sk-estimator input.sk-toggleable__control:checked~label.sk-toggleable__label {background-color: #d4ebff;}#sk-container-id-1 div.sk-label input.sk-toggleable__control:checked~label.sk-toggleable__label {background-color: #d4ebff;}#sk-container-id-1 input.sk-hidden--visually {border: 0;clip: rect(1px 1px 1px 1px);clip: rect(1px, 1px, 1px, 1px);height: 1px;margin: -1px;overflow: hidden;padding: 0;position: absolute;width: 1px;}#sk-container-id-1 div.sk-estimator {font-family: monospace;background-color: #f0f8ff;border: 1px dotted black;border-radius: 0.25em;box-sizing: border-box;margin-bottom: 0.5em;}#sk-container-id-1 div.sk-estimator:hover {background-color: #d4ebff;}#sk-container-id-1 div.sk-parallel-item::after {content: \"\";width: 100%;border-bottom: 1px solid gray;flex-grow: 1;}#sk-container-id-1 div.sk-label:hover label.sk-toggleable__label {background-color: #d4ebff;}#sk-container-id-1 div.sk-serial::before {content: \"\";position: absolute;border-left: 1px solid gray;box-sizing: border-box;top: 0;bottom: 0;left: 50%;z-index: 0;}#sk-container-id-1 div.sk-serial {display: flex;flex-direction: column;align-items: center;background-color: white;padding-right: 0.2em;padding-left: 0.2em;position: relative;}#sk-container-id-1 div.sk-item {position: relative;z-index: 1;}#sk-container-id-1 div.sk-parallel {display: flex;align-items: stretch;justify-content: center;background-color: white;position: relative;}#sk-container-id-1 div.sk-item::before, #sk-container-id-1 div.sk-parallel-item::before {content: \"\";position: absolute;border-left: 1px solid gray;box-sizing: border-box;top: 0;bottom: 0;left: 50%;z-index: -1;}#sk-container-id-1 div.sk-parallel-item {display: flex;flex-direction: column;z-index: 1;position: relative;background-color: white;}#sk-container-id-1 div.sk-parallel-item:first-child::after {align-self: flex-end;width: 50%;}#sk-container-id-1 div.sk-parallel-item:last-child::after {align-self: flex-start;width: 50%;}#sk-container-id-1 div.sk-parallel-item:only-child::after {width: 0;}#sk-container-id-1 div.sk-dashed-wrapped {border: 1px dashed gray;margin: 0 0.4em 0.5em 0.4em;box-sizing: border-box;padding-bottom: 0.4em;background-color: white;}#sk-container-id-1 div.sk-label label {font-family: monospace;font-weight: bold;display: inline-block;line-height: 1.2em;}#sk-container-id-1 div.sk-label-container {text-align: center;}#sk-container-id-1 div.sk-container {/* jupyter's `normalize.less` sets `[hidden] { display: none; }` but bootstrap.min.css set `[hidden] { display: none !important; }` so we also need the `!important` here to be able to override the default hidden behavior on the sphinx rendered scikit-learn.org. See: https://github.com/scikit-learn/scikit-learn/issues/21755 */display: inline-block !important;position: relative;}#sk-container-id-1 div.sk-text-repr-fallback {display: none;}</style><div id=\"sk-container-id-1\" class=\"sk-top-container\"><div class=\"sk-text-repr-fallback\"><pre>RandomForestRegressor()</pre><b>In a Jupyter environment, please rerun this cell to show the HTML representation or trust the notebook. <br />On GitHub, the HTML representation is unable to render, please try loading this page with nbviewer.org.</b></div><div class=\"sk-container\" hidden><div class=\"sk-item\"><div class=\"sk-estimator sk-toggleable\"><input class=\"sk-toggleable__control sk-hidden--visually\" id=\"sk-estimator-id-1\" type=\"checkbox\" checked><label for=\"sk-estimator-id-1\" class=\"sk-toggleable__label sk-toggleable__label-arrow\">RandomForestRegressor</label><div class=\"sk-toggleable__content\"><pre>RandomForestRegressor()</pre></div></div></div></div></div>"
      ],
      "text/plain": [
       "RandomForestRegressor()"
      ]
     },
     "execution_count": 10,
     "metadata": {},
     "output_type": "execute_result"
    }
   ],
   "source": [
    "model = RandomForestRegressor()\n",
    "model.fit(X_train, Y_train)"
   ]
  },
  {
   "cell_type": "code",
   "execution_count": 11,
   "id": "5a2ba610",
   "metadata": {},
   "outputs": [],
   "source": [
    "pred = model.predict(X_test)"
   ]
  },
  {
   "cell_type": "code",
   "execution_count": 12,
   "id": "98dc5a28",
   "metadata": {},
   "outputs": [
    {
     "name": "stdout",
     "output_type": "stream",
     "text": [
      "0.9965166701657714\n"
     ]
    }
   ],
   "source": [
    "# r2 score\n",
    "Y_true = Y_test.to_numpy()\n",
    "score = r2_score(Y_true, pred)\n",
    "print(score)"
   ]
  },
  {
   "cell_type": "code",
   "execution_count": 13,
   "id": "4fba912c",
   "metadata": {},
   "outputs": [],
   "source": [
    "def FirstTenValues(Y_true, Y_pred):\n",
    "    for i in range(10):\n",
    "        print(f\"Actual Value = {Y_true[i]}, Predicted Value = {Y_pred[i]}\")"
   ]
  },
  {
   "cell_type": "code",
   "execution_count": 14,
   "id": "0e3d07a4",
   "metadata": {},
   "outputs": [
    {
     "name": "stdout",
     "output_type": "stream",
     "text": [
      "Actual Value = 120.332497, Predicted Value = 121.95987445999995\n",
      "Actual Value = 123.345001, Predicted Value = 122.65887408999996\n",
      "Actual Value = 123.512497, Predicted Value = 123.12587399999992\n",
      "Actual Value = 123.487503, Predicted Value = 123.25174916999995\n",
      "Actual Value = 124.207497, Predicted Value = 123.64649898999997\n",
      "Actual Value = 124.732498, Predicted Value = 131.93862608\n",
      "Actual Value = 124.357498, Predicted Value = 126.63999984\n",
      "Actual Value = 124.449997, Predicted Value = 126.78674970999997\n",
      "Actual Value = 124.212502, Predicted Value = 123.93412394999994\n",
      "Actual Value = 122.495003, Predicted Value = 123.29849917999995\n"
     ]
    }
   ],
   "source": [
    "FirstTenValues(Y_true, pred)"
   ]
  },
  {
   "cell_type": "code",
   "execution_count": 15,
   "id": "14b34714",
   "metadata": {},
   "outputs": [
    {
     "data": {
      "text/plain": [
       "<matplotlib.legend.Legend at 0x1dd62565b10>"
      ]
     },
     "execution_count": 15,
     "metadata": {},
     "output_type": "execute_result"
    },
    {
     "data": {
      "image/png": "[encoded data removed]",
      "text/plain": [
       "<Figure size 640x480 with 1 Axes>"
      ]
     },
     "metadata": {},
     "output_type": "display_data"
    }
   ],
   "source": [
    "plt.plot(Y_true, color=\"g\", label=\"actual\")\n",
    "plt.plot(pred, color=\"r\", label=\"predicted\")\n",
    "plt.legend()"
   ]
  },
  {
   "cell_type": "markdown",
   "id": "9c993466",
   "metadata": {},
   "source": [
    "## Using LSTM"
   ]
  },
  {
   "cell_type": "code",
   "execution_count": 147,
   "id": "066bd960",
   "metadata": {},
   "outputs": [],
   "source": [
    "from keras.layers import Dense, LSTM, Input, Dropout\n",
    "from keras import Sequential\n",
    "import tensorflow as tf"
   ]
  },
  {
   "cell_type": "code",
   "execution_count": 141,
   "id": "95c796f0",
   "metadata": {},
   "outputs": [],
   "source": [
    "X_train_ = X.to_numpy()\n",
    "Y_train_ = Y.to_numpy()"
   ]
  },
  {
   "cell_type": "code",
   "execution_count": 142,
   "id": "05fc3ac1",
   "metadata": {},
   "outputs": [],
   "source": [
    "X_train_ = X_train_.reshape(X_train_.shape[0], X_train_.shape[1], 1)\n",
    "Y_train_ = Y_train_.reshape(Y_train_.shape[0], 1)"
   ]
  },
  {
   "cell_type": "code",
   "execution_count": 143,
   "id": "279be42e",
   "metadata": {},
   "outputs": [
    {
     "data": {
      "text/plain": [
       "((4494, 4, 1), (4494, 1))"
      ]
     },
     "execution_count": 143,
     "metadata": {},
     "output_type": "execute_result"
    }
   ],
   "source": [
    "X_train_.shape, Y_train_.shape"
   ]
  },
  {
   "cell_type": "code",
   "execution_count": 149,
   "id": "792a3d93",
   "metadata": {},
   "outputs": [],
   "source": [
    "model = Sequential([\n",
    "    Input(shape=(4, 1)),\n",
    "    LSTM(200, return_sequences=True, dropout=0.2),\n",
    "    LSTM(400, return_sequences=True, dropout=0.2),\n",
    "    LSTM(300, return_sequences=True, dropout=0.2),\n",
    "    LSTM(100),\n",
    "    Dense(200, activation=\"relu\"),\n",
    "    Dropout(0.2),\n",
    "    Dense(1, activation=\"linear\")\n",
    "])"
   ]
  },
  {
   "cell_type": "code",
   "execution_count": 150,
   "id": "8e0e023a",
   "metadata": {},
   "outputs": [
    {
     "name": "stdout",
     "output_type": "stream",
     "text": [
      "Model: \"sequential_20\"\n",
      "_________________________________________________________________\n",
      " Layer (type)                Output Shape              Param #   \n",
      "=================================================================\n",
      " lstm_58 (LSTM)              (None, 4, 200)            161600    \n",
      "                                                                 \n",
      " lstm_59 (LSTM)              (None, 4, 400)            961600    \n",
      "                                                                 \n",
      " lstm_60 (LSTM)              (None, 4, 300)            841200    \n",
      "                                                                 \n",
      " lstm_61 (LSTM)              (None, 100)               160400    \n",
      "                                                                 \n",
      " dense_61 (Dense)            (None, 200)               20200     \n",
      "                                                                 \n",
      " dropout (Dropout)           (None, 200)               0         \n",
      "                                                                 \n",
      " dense_62 (Dense)            (None, 1)                 201       \n",
      "                                                                 \n",
      "=================================================================\n",
      "Total params: 2145201 (8.18 MB)\n",
      "Trainable params: 2145201 (8.18 MB)\n",
      "Non-trainable params: 0 (0.00 Byte)\n",
      "_________________________________________________________________\n"
     ]
    }
   ],
   "source": [
    "model.summary()"
   ]
  },
  {
   "cell_type": "code",
   "execution_count": 151,
   "id": "53f0b106",
   "metadata": {},
   "outputs": [],
   "source": [
    "model.compile(\n",
    "    loss=\"mean_squared_error\",\n",
    "    optimizer = \"adam\",\n",
    ")"
   ]
  },
  {
   "cell_type": "code",
   "execution_count": 152,
   "id": "d90dc60b",
   "metadata": {},
   "outputs": [
    {
     "name": "stdout",
     "output_type": "stream",
     "text": [
      "Epoch 1/20\n",
      "141/141 [==============================] - 39s 152ms/step - loss: 1987548.0000\n",
      "Epoch 2/20\n",
      "141/141 [==============================] - 22s 159ms/step - loss: 1182446.2500\n",
      "Epoch 3/20\n",
      "141/141 [==============================] - 24s 168ms/step - loss: 991253.6250\n",
      "Epoch 4/20\n",
      "141/141 [==============================] - 24s 172ms/step - loss: 1038700.0000\n",
      "Epoch 5/20\n",
      "141/141 [==============================] - 27s 188ms/step - loss: 675339.6875\n",
      "Epoch 6/20\n",
      "141/141 [==============================] - 32s 227ms/step - loss: 355539.8750\n",
      "Epoch 7/20\n",
      "141/141 [==============================] - 32s 228ms/step - loss: 223036.3125\n",
      "Epoch 8/20\n",
      "141/141 [==============================] - 31s 219ms/step - loss: 208354.8594\n",
      "Epoch 9/20\n",
      "141/141 [==============================] - 31s 221ms/step - loss: 122319.7969\n",
      "Epoch 10/20\n",
      "141/141 [==============================] - 30s 210ms/step - loss: 127774.5078\n",
      "Epoch 11/20\n",
      "141/141 [==============================] - 34s 242ms/step - loss: 128497.9453\n",
      "Epoch 12/20\n",
      "141/141 [==============================] - 30s 211ms/step - loss: 99999.9141\n",
      "Epoch 13/20\n",
      "141/141 [==============================] - 28s 197ms/step - loss: 83723.5234\n",
      "Epoch 14/20\n",
      "141/141 [==============================] - 27s 192ms/step - loss: 85212.7969\n",
      "Epoch 15/20\n",
      "141/141 [==============================] - 35s 246ms/step - loss: 81686.3672\n",
      "Epoch 16/20\n",
      "141/141 [==============================] - 32s 224ms/step - loss: 65016.3320\n",
      "Epoch 17/20\n",
      "141/141 [==============================] - 27s 194ms/step - loss: 106018.5469\n",
      "Epoch 18/20\n",
      "141/141 [==============================] - 27s 190ms/step - loss: 66689.3281\n",
      "Epoch 19/20\n",
      "141/141 [==============================] - 27s 190ms/step - loss: 69492.0625\n",
      "Epoch 20/20\n",
      "141/141 [==============================] - 28s 199ms/step - loss: 82319.0625\n"
     ]
    }
   ],
   "source": [
    "hist = model.fit(X_train_, Y_train_, epochs=20)"
   ]
  },
  {
   "cell_type": "code",
   "execution_count": 153,
   "id": "e78efd0e",
   "metadata": {},
   "outputs": [
    {
     "name": "stdout",
     "output_type": "stream",
     "text": [
      "141/141 [==============================] - 10s 49ms/step\n"
     ]
    }
   ],
   "source": [
    "pred = model.predict(X_train_)"
   ]
  },
  {
   "cell_type": "code",
   "execution_count": 157,
   "id": "d1824f45",
   "metadata": {},
   "outputs": [
    {
     "data": {
      "text/plain": [
       "0.9591166590080787"
      ]
     },
     "execution_count": 157,
     "metadata": {},
     "output_type": "execute_result"
    }
   ],
   "source": [
    "r2_score(Y_train_, pred)"
   ]
  },
  {
   "cell_type": "code",
   "execution_count": 164,
   "id": "842d492e",
   "metadata": {},
   "outputs": [
    {
     "data": {
      "text/plain": [
       "[<matplotlib.lines.Line2D at 0x1dd2a54c650>]"
      ]
     },
     "execution_count": 164,
     "metadata": {},
     "output_type": "execute_result"
    },
    {
     "data": {
      "image/png": "[encoded data removed]",
      "text/plain": [
       "<Figure size 640x480 with 1 Axes>"
      ]
     },
     "metadata": {},
     "output_type": "display_data"
    }
   ],
   "source": [
    "plt.plot(Y_train_)\n",
    "plt.plot(pred)"
   ]
  },
  {
   "cell_type": "code",
   "execution_count": null,
   "id": "6541fdf8",
   "metadata": {},
   "outputs": [],
   "source": []
  }
 ],
 "metadata": {
  "kernelspec": {
   "display_name": "Python 3 (ipykernel)",
   "language": "python",
   "name": "python3"
  },
  "language_info": {
   "codemirror_mode": {
    "name": "ipython",
    "version": 3
   },
   "file_extension": ".py",
   "mimetype": "text/x-python",
   "name": "python",
   "nbconvert_exporter": "python",
   "pygments_lexer": "ipython3",
   "version": "3.11.3"
  }
 },
 "nbformat": 4,
 "nbformat_minor": 5
}
